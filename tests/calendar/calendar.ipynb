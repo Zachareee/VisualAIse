{
 "cells": [
  {
   "cell_type": "code",
   "execution_count": 1,
   "metadata": {},
   "outputs": [],
   "source": [
    "import requests as r\n",
    "import os\n",
    "from json import loads"
   ]
  },
  {
   "cell_type": "code",
   "execution_count": 2,
   "metadata": {},
   "outputs": [],
   "source": [
    "_, _, files = os.walk(\".\").__next__()\n",
    "files = [file for file in files if file.endswith(\".json\")]"
   ]
  },
  {
   "cell_type": "code",
   "execution_count": 3,
   "metadata": {},
   "outputs": [
    {
     "name": "stdout",
     "output_type": "stream",
     "text": [
      "Now using project.json\n"
     ]
    }
   ],
   "source": [
    "file = files[1]\n",
    "print(\"Now using\", file)\n",
    "with open(file, \"r\") as f:\n",
    "    testdata = loads(f.read())"
   ]
  },
  {
   "cell_type": "code",
   "execution_count": 4,
   "metadata": {},
   "outputs": [
    {
     "name": "stdout",
     "output_type": "stream",
     "text": [
      "Final Calendar is {\"5\":[\"team meeting\",\"go over project milestones\"],\"10\":[\"Draft ready\"],\"15\":[\"Client presentation\"],\"25\":[\"Progress report\"]}\n",
      "\n",
      "Final Matrix is\n",
      "The speaker took a look at something that seems crowded and is seeking the thoughts of the other person.\n",
      "Assess current status and make adjustments before final push.\n",
      "\n"
     ]
    }
   ],
   "source": [
    "for s in r.post(\"http://localhost:3000/chats?board=uXjVKKKXSG0=\", json=testdata, cookies={\"session\": \"zach\"}).json():\n",
    "    print(s)\n",
    "    print()"
   ]
  }
 ],
 "metadata": {
  "kernelspec": {
   "display_name": "Python 3",
   "language": "python",
   "name": "python3"
  },
  "language_info": {
   "codemirror_mode": {
    "name": "ipython",
    "version": 3
   },
   "file_extension": ".py",
   "mimetype": "text/x-python",
   "name": "python",
   "nbconvert_exporter": "python",
   "pygments_lexer": "ipython3",
   "version": "3.12.0"
  }
 },
 "nbformat": 4,
 "nbformat_minor": 2
}
