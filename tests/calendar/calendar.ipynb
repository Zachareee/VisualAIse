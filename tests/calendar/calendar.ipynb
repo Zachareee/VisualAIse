{
 "cells": [
  {
   "cell_type": "code",
   "execution_count": null,
   "metadata": {},
   "outputs": [],
   "source": [
    "import requests as r\n",
    "import os\n",
    "from json import loads"
   ]
  },
  {
   "cell_type": "code",
   "execution_count": null,
   "metadata": {},
   "outputs": [],
   "source": [
    "_, _, files = os.walk(\".\").__next__()\n",
    "files = [file for file in files if file.endswith(\".json\")]"
   ]
  },
  {
   "cell_type": "code",
   "execution_count": null,
   "metadata": {},
   "outputs": [],
   "source": [
    "file = files[1]\n",
    "print(\"Now using\", file)\n",
    "with open(file, \"r\") as f:\n",
    "    testdata = loads(f.read())"
   ]
  },
  {
   "cell_type": "code",
   "execution_count": null,
   "metadata": {},
   "outputs": [],
   "source": [
    "with open(\"../../tokendb.json\", \"r\") as f:\n",
    "    ls = list(loads(f.read()).keys())\n",
    "    if len(ls) > 0:\n",
    "        for s in r.post(\"http://localhost:3000/chats?board=uXjVKKKXSG0=\", json=testdata, cookies={\"session\": ls[0]}).json():\n",
    "            print(s)\n",
    "            print()\n",
    "    else: raise Exception(\"There are no valid tokens\")"
   ]
  }
 ],
 "metadata": {
  "kernelspec": {
   "display_name": "Python 3",
   "language": "python",
   "name": "python3"
  },
  "language_info": {
   "codemirror_mode": {
    "name": "ipython",
    "version": 3
   },
   "file_extension": ".py",
   "mimetype": "text/x-python",
   "name": "python",
   "nbconvert_exporter": "python",
   "pygments_lexer": "ipython3",
   "version": "3.12.0"
  }
 },
 "nbformat": 4,
 "nbformat_minor": 2
}
